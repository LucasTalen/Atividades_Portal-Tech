{
  "nbformat": 4,
  "nbformat_minor": 0,
  "metadata": {
    "colab": {
      "provenance": []
    },
    "kernelspec": {
      "name": "python3",
      "display_name": "Python 3"
    },
    "language_info": {
      "name": "python"
    }
  },
  "cells": [
    {
      "cell_type": "code",
      "execution_count": null,
      "metadata": {
        "id": "za2ylUBP2TGC"
      },
      "outputs": [],
      "source": [
        "for cont in range(1,21):\n",
        "  if cont != 13:\n",
        "    print(cont)"
      ]
    },
    {
      "cell_type": "code",
      "source": [
        "contWhile = 1\n",
        "while contWhile <= 20:\n",
        "  if contWhile != 13:\n",
        "    print(contWhile)\n",
        "  contWhile += 1"
      ],
      "metadata": {
        "id": "4_OtnfW722UV"
      },
      "execution_count": null,
      "outputs": []
    },
    {
      "cell_type": "code",
      "source": [
        "andares = [ _ for _ in range(1,21) if _ != 13]\n",
        "andares.reverse()\n",
        "print(*andares, sep=\"\\n\")"
      ],
      "metadata": {
        "colab": {
          "base_uri": "https://localhost:8080/"
        },
        "id": "h35alEjF3ak2",
        "outputId": "50582a0a-9495-4d0d-cb84-042975da47d2"
      },
      "execution_count": 18,
      "outputs": [
        {
          "output_type": "stream",
          "name": "stdout",
          "text": [
            "20\n",
            "19\n",
            "18\n",
            "17\n",
            "16\n",
            "15\n",
            "14\n",
            "12\n",
            "11\n",
            "10\n",
            "9\n",
            "8\n",
            "7\n",
            "6\n",
            "5\n",
            "4\n",
            "3\n",
            "2\n",
            "1\n"
          ]
        }
      ]
    }
  ]
}