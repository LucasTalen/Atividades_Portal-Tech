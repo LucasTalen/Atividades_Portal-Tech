{
  "nbformat": 4,
  "nbformat_minor": 0,
  "metadata": {
    "colab": {
      "provenance": []
    },
    "kernelspec": {
      "name": "python3",
      "display_name": "Python 3"
    },
    "language_info": {
      "name": "python"
    }
  },
  "cells": [
    {
      "cell_type": "code",
      "execution_count": null,
      "metadata": {
        "id": "za2ylUBP2TGC"
      },
      "outputs": [],
      "source": [
        "for cont in range(1,21):\n",
        "  if cont != 13:\n",
        "    print(cont)"
      ]
    },
    {
      "cell_type": "code",
      "source": [
        "contWhile = 1\n",
        "while contWhile <= 20:\n",
        "  if contWhile != 13:\n",
        "    print(contWhile)\n",
        "  contWhile += 1"
      ],
      "metadata": {
        "id": "4_OtnfW722UV"
      },
      "execution_count": null,
      "outputs": []
    },
    {
      "cell_type": "code",
      "source": [
        "andares = [ _ for _ in range(1,21) if _ != 13]\n",
        "andares.reverse()\n",
        "print(*andares, sep=\"\\n\")"
      ],
      "metadata": {
        "id": "h35alEjF3ak2"
      },
      "execution_count": null,
      "outputs": []
    }
  ]
}